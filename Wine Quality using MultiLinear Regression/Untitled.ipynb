{
 "cells": [
  {
   "cell_type": "markdown",
   "metadata": {},
   "source": [
    "# Time Series Analysis (Tesla and General Motors)"
   ]
  },
  {
   "cell_type": "markdown",
   "metadata": {},
   "source": [
    "An introductory example of creating an additive model for financial time-series data using Python and the Prophet forecasting package developed by Facebook. Along the way,I will cover some data manipulation using pandas, accessing financial data using the Quandl library and plotting with matplotlib. Comparing two companies within the same industry, namely **Tesla** and **General Motors**"
   ]
  },
  {
   "cell_type": "markdown",
   "metadata": {},
   "source": [
    "**Quandl** can be installed with pip from the command line, lets you access thousands of financial indicators with a single line of Python, and allows up to 50 requests a day without signing up."
   ]
  },
  {
   "cell_type": "code",
   "execution_count": 12,
   "metadata": {},
   "outputs": [],
   "source": [
    "import quandl #for financial data\n",
    "import pandas as pd #for data manipulation\n",
    "\n",
    "tesla = quandl.get('WIKI/TSLA') # Retrieve TSLA data from Quandl"
   ]
  },
  {
   "cell_type": "code",
   "execution_count": 13,
   "metadata": {},
   "outputs": [
    {
     "data": {
      "text/html": [
       "<div>\n",
       "<style scoped>\n",
       "    .dataframe tbody tr th:only-of-type {\n",
       "        vertical-align: middle;\n",
       "    }\n",
       "\n",
       "    .dataframe tbody tr th {\n",
       "        vertical-align: top;\n",
       "    }\n",
       "\n",
       "    .dataframe thead th {\n",
       "        text-align: right;\n",
       "    }\n",
       "</style>\n",
       "<table border=\"1\" class=\"dataframe\">\n",
       "  <thead>\n",
       "    <tr style=\"text-align: right;\">\n",
       "      <th></th>\n",
       "      <th>Open</th>\n",
       "      <th>High</th>\n",
       "      <th>Low</th>\n",
       "      <th>Close</th>\n",
       "      <th>Volume</th>\n",
       "      <th>Ex-Dividend</th>\n",
       "      <th>Split Ratio</th>\n",
       "      <th>Adj. Open</th>\n",
       "      <th>Adj. High</th>\n",
       "      <th>Adj. Low</th>\n",
       "      <th>Adj. Close</th>\n",
       "      <th>Adj. Volume</th>\n",
       "    </tr>\n",
       "    <tr>\n",
       "      <th>Date</th>\n",
       "      <th></th>\n",
       "      <th></th>\n",
       "      <th></th>\n",
       "      <th></th>\n",
       "      <th></th>\n",
       "      <th></th>\n",
       "      <th></th>\n",
       "      <th></th>\n",
       "      <th></th>\n",
       "      <th></th>\n",
       "      <th></th>\n",
       "      <th></th>\n",
       "    </tr>\n",
       "  </thead>\n",
       "  <tbody>\n",
       "    <tr>\n",
       "      <td>2010-11-18</td>\n",
       "      <td>35.00</td>\n",
       "      <td>35.99</td>\n",
       "      <td>33.89</td>\n",
       "      <td>34.19</td>\n",
       "      <td>457044300.0</td>\n",
       "      <td>0.0</td>\n",
       "      <td>1.0</td>\n",
       "      <td>29.988317</td>\n",
       "      <td>30.836558</td>\n",
       "      <td>29.037259</td>\n",
       "      <td>29.294302</td>\n",
       "      <td>457044300.0</td>\n",
       "    </tr>\n",
       "    <tr>\n",
       "      <td>2010-11-19</td>\n",
       "      <td>34.15</td>\n",
       "      <td>34.50</td>\n",
       "      <td>33.11</td>\n",
       "      <td>34.26</td>\n",
       "      <td>107842000.0</td>\n",
       "      <td>0.0</td>\n",
       "      <td>1.0</td>\n",
       "      <td>29.260029</td>\n",
       "      <td>29.559912</td>\n",
       "      <td>28.368948</td>\n",
       "      <td>29.354278</td>\n",
       "      <td>107842000.0</td>\n",
       "    </tr>\n",
       "    <tr>\n",
       "      <td>2010-11-22</td>\n",
       "      <td>34.20</td>\n",
       "      <td>34.48</td>\n",
       "      <td>33.81</td>\n",
       "      <td>34.08</td>\n",
       "      <td>36650600.0</td>\n",
       "      <td>0.0</td>\n",
       "      <td>1.0</td>\n",
       "      <td>29.302870</td>\n",
       "      <td>29.542776</td>\n",
       "      <td>28.968714</td>\n",
       "      <td>29.200053</td>\n",
       "      <td>36650600.0</td>\n",
       "    </tr>\n",
       "    <tr>\n",
       "      <td>2010-11-23</td>\n",
       "      <td>33.95</td>\n",
       "      <td>33.99</td>\n",
       "      <td>33.19</td>\n",
       "      <td>33.25</td>\n",
       "      <td>31170200.0</td>\n",
       "      <td>0.0</td>\n",
       "      <td>1.0</td>\n",
       "      <td>29.088668</td>\n",
       "      <td>29.122940</td>\n",
       "      <td>28.437493</td>\n",
       "      <td>28.488901</td>\n",
       "      <td>31170200.0</td>\n",
       "    </tr>\n",
       "    <tr>\n",
       "      <td>2010-11-24</td>\n",
       "      <td>33.73</td>\n",
       "      <td>33.80</td>\n",
       "      <td>33.22</td>\n",
       "      <td>33.48</td>\n",
       "      <td>26138000.0</td>\n",
       "      <td>0.0</td>\n",
       "      <td>1.0</td>\n",
       "      <td>28.900170</td>\n",
       "      <td>28.960146</td>\n",
       "      <td>28.463197</td>\n",
       "      <td>28.685967</td>\n",
       "      <td>26138000.0</td>\n",
       "    </tr>\n",
       "  </tbody>\n",
       "</table>\n",
       "</div>"
      ],
      "text/plain": [
       "             Open   High    Low  Close       Volume  Ex-Dividend  Split Ratio  \\\n",
       "Date                                                                            \n",
       "2010-11-18  35.00  35.99  33.89  34.19  457044300.0          0.0          1.0   \n",
       "2010-11-19  34.15  34.50  33.11  34.26  107842000.0          0.0          1.0   \n",
       "2010-11-22  34.20  34.48  33.81  34.08   36650600.0          0.0          1.0   \n",
       "2010-11-23  33.95  33.99  33.19  33.25   31170200.0          0.0          1.0   \n",
       "2010-11-24  33.73  33.80  33.22  33.48   26138000.0          0.0          1.0   \n",
       "\n",
       "            Adj. Open  Adj. High   Adj. Low  Adj. Close  Adj. Volume  \n",
       "Date                                                                  \n",
       "2010-11-18  29.988317  30.836558  29.037259   29.294302  457044300.0  \n",
       "2010-11-19  29.260029  29.559912  28.368948   29.354278  107842000.0  \n",
       "2010-11-22  29.302870  29.542776  28.968714   29.200053   36650600.0  \n",
       "2010-11-23  29.088668  29.122940  28.437493   28.488901   31170200.0  \n",
       "2010-11-24  28.900170  28.960146  28.463197   28.685967   26138000.0  "
      ]
     },
     "execution_count": 13,
     "metadata": {},
     "output_type": "execute_result"
    }
   ],
   "source": [
    "gm = quandl.get('WIKI/GM') # Retrieve the GM data from Quandl\n",
    "gm.head(5)"
   ]
  },
  {
   "cell_type": "markdown",
   "metadata": {},
   "source": [
    "We could easily have spent hours searching for this data and downloading it as csv spreadsheet files, but instead, thanks to quandl, we have all the data we need in a few seconds!"
   ]
  },
  {
   "cell_type": "code",
   "execution_count": null,
   "metadata": {},
   "outputs": [],
   "source": []
  }
 ],
 "metadata": {
  "kernelspec": {
   "display_name": "Python 3",
   "language": "python",
   "name": "python3"
  },
  "language_info": {
   "codemirror_mode": {
    "name": "ipython",
    "version": 3
   },
   "file_extension": ".py",
   "mimetype": "text/x-python",
   "name": "python",
   "nbconvert_exporter": "python",
   "pygments_lexer": "ipython3",
   "version": "3.7.4"
  }
 },
 "nbformat": 4,
 "nbformat_minor": 2
}
